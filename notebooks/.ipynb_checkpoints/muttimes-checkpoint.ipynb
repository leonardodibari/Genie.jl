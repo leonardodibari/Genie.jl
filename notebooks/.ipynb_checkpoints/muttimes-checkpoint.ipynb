{
 "cells": [
  {
   "cell_type": "code",
   "execution_count": 16,
   "id": "0ccf783b-a01b-4697-81ba-cfd71cc3fbcd",
   "metadata": {},
   "outputs": [
    {
     "data": {
      "text/plain": [
       "CIE"
      ]
     },
     "execution_count": 16,
     "metadata": {},
     "output_type": "execute_result"
    }
   ],
   "source": [
    "using Genie, DCAUtils, JLD2, LinearAlgebra, Statistics\n",
    "using LsqFit, PyPlot, StatsBase\n",
    "include(\"../src/entropy.jl\")"
   ]
  },
  {
   "cell_type": "code",
   "execution_count": 17,
   "id": "55b269ea-10fc-4a15-bf5d-7f73c0d94599",
   "metadata": {},
   "outputs": [
    {
     "data": {
      "text/plain": [
       "5-element Vector{Symbol}:\n",
       " :train_msa\n",
       " :w\n",
       " :step_msa\n",
       " :h\n",
       " :J"
      ]
     },
     "execution_count": 17,
     "metadata": {},
     "output_type": "execute_result"
    }
   ],
   "source": [
    "@load \"../../data_Genie/mut_times_data_DBD.jld2\""
   ]
  },
  {
   "cell_type": "code",
   "execution_count": 18,
   "id": "d25da9f4-5fbd-47c2-847a-cc595caaee9a",
   "metadata": {},
   "outputs": [],
   "source": [
    "L, M = size(step_msa[1]); T = length(step_msa); q = 21; "
   ]
  },
  {
   "cell_type": "code",
   "execution_count": 22,
   "id": "836e4844-48b0-4c89-9210-86592384e982",
   "metadata": {
    "tags": []
   },
   "outputs": [
    {
     "name": "stdout",
     "output_type": "stream",
     "text": [
      "θ = 0.2 threshold = 15.0\n",
      "M = 24944 N = 76 Meff = 869.9544592918556\n",
      "θ = 0.2 threshold = 15.0\n",
      "M = 10000 N = 76 Meff = 0.9999999999999062\n"
     ]
    },
    {
     "ename": "LoadError",
     "evalue": "InterruptException:",
     "output_type": "error",
     "traceback": [
      "InterruptException:",
      "",
      "Stacktrace:",
      " [1] Array",
      "   @ ./boot.jl:477 [inlined]",
      " [2] Array",
      "   @ ./boot.jl:486 [inlined]",
      " [3] zeros",
      "   @ ./array.jl:636 [inlined]",
      " [4] zeros",
      "   @ ./array.jl:633 [inlined]",
      " [5] zeros",
      "   @ ./array.jl:631 [inlined]",
      " [6] single_site_prob_cond(k::Int64, mutated_seq::Vector{Int8}, h::Matrix{Float64}, J::Array{Float64, 4}, L::Int64; q::Int64)",
      "   @ Main ~/Genie.jl/src/entropy.jl:46",
      " [7] single_site_prob_cond(k::Int64, mutated_seq::Vector{Int8}, h::Matrix{Float64}, J::Array{Float64, 4}, L::Int64)",
      "   @ Main ~/Genie.jl/src/entropy.jl:45",
      " [8] top-level scope",
      "   @ ./In[22]:9"
     ]
    }
   ],
   "source": [
    "f1,f2 = compute_weighted_frequencies(train_msa, w, 22);\n",
    "f1 = reshape(f1, (21,76));\n",
    "f1_0,f2_0 = compute_weighted_frequencies(step_msa[1], 22, 0.);\n",
    "f1_0 = reshape(f1_0, (21,76));\n",
    "p1 = zeros(M, 21, L);\n",
    "for idx in 1:M\n",
    "    for a in 1:21\n",
    "        for i in 1:L\n",
    "            p1[idx,:,i] = Genie.single_site_prob_cond(i,step_msa[1][:,idx],h,J, 76)\n",
    "        end\n",
    "    end\n",
    "end\n",
    "\n",
    "p1_0 = mean(p1, dims = 1)[1,:,:];\n",
    "scores = (f1 .- p1_0) ./ (f1 .- f1_0);\n",
    "\n",
    "freqs = zeros(T, 21, L);\n",
    "for i in 1:T\n",
    "     @time freqs[i, :, :] = reshape(compute_weighted_frequencies(step_msa[i], 22, 0.)[1], (21,L))\n",
    "end"
   ]
  },
  {
   "cell_type": "code",
   "execution_count": 9,
   "id": "2a0976b3-8f63-45dd-a93b-0e677ba9a0fd",
   "metadata": {},
   "outputs": [
    {
     "ename": "LoadError",
     "evalue": "UndefVarError: `p1_0` not defined",
     "output_type": "error",
     "traceback": [
      "UndefVarError: `p1_0` not defined",
      "",
      "Stacktrace:",
      " [1] top-level scope",
      "   @ In[9]:1"
     ]
    }
   ],
   "source": [
    "cor(f1[:], p1_0[:])"
   ]
  },
  {
   "cell_type": "code",
   "execution_count": 10,
   "id": "3e33867d-e0cd-45a3-a5d4-806f46e383e6",
   "metadata": {},
   "outputs": [
    {
     "ename": "LoadError",
     "evalue": "UndefVarError: `freqs` not defined",
     "output_type": "error",
     "traceback": [
      "UndefVarError: `freqs` not defined",
      "",
      "Stacktrace:",
      " [1] top-level scope",
      "   @ In[10]:8"
     ]
    }
   ],
   "source": [
    "times = zeros(21,L);\n",
    "prefac = zeros(21,L);\n",
    "x = [i for i in 1:T];\n",
    "for a in 1:21\n",
    "    for i in 1:76\n",
    "        model(t, p) = p[1] *(1 .- exp.(-t/p[2]))\n",
    "        p0 = [0.5, 0.5]\n",
    "        fit = curve_fit(model, x, freqs[:,a,i], p0);\n",
    "        prefac[a,i] = fit.param[1]\n",
    "        times[a,i] = fit.param[2]\n",
    "    end\n",
    "end"
   ]
  },
  {
   "cell_type": "code",
   "execution_count": 11,
   "id": "fa892e70-81f5-41b2-bf30-f2920a564825",
   "metadata": {},
   "outputs": [
    {
     "ename": "LoadError",
     "evalue": "UndefVarError: `freqs` not defined",
     "output_type": "error",
     "traceback": [
      "UndefVarError: `freqs` not defined",
      "",
      "Stacktrace:",
      " [1] top-level scope",
      "   @ In[11]:3"
     ]
    }
   ],
   "source": [
    "aa = 2; site = 1;\n",
    "x = [i for i in 1:T]\n",
    "plt.plot(x, freqs[:,aa,site], label = \"sim freq\")\n",
    "plt.plot(x, prefac[aa,site] .* (1 .- exp.(.-x ./times[aa,site])), label = \"fit\")\n",
    "plt.xscale(\"log\")\n",
    "plt.legend()"
   ]
  },
  {
   "cell_type": "code",
   "execution_count": 12,
   "id": "89bab075-72b7-4c0e-a16c-2210fc28aa4a",
   "metadata": {},
   "outputs": [
    {
     "ename": "LoadError",
     "evalue": "UndefVarError: `scores` not defined",
     "output_type": "error",
     "traceback": [
      "UndefVarError: `scores` not defined",
      "",
      "Stacktrace:",
      " [1] top-level scope",
      "   @ In[12]:1"
     ]
    }
   ],
   "source": [
    "plt.scatter(times[:], scores[:])\n",
    "cor(scores[:], times[:])"
   ]
  },
  {
   "cell_type": "code",
   "execution_count": 13,
   "id": "0b2f6029-93ae-403a-b94f-bfa645fa0c21",
   "metadata": {},
   "outputs": [
    {
     "ename": "LoadError",
     "evalue": "UndefVarError: `scores` not defined",
     "output_type": "error",
     "traceback": [
      "UndefVarError: `scores` not defined",
      "",
      "Stacktrace:",
      " [1] top-level scope",
      "   @ In[13]:2"
     ]
    }
   ],
   "source": [
    "\n",
    "idx = (times .< 80) .& ((scores.*scores) .< 10)\n",
    "plt.scatter(times[idx], scores[idx])\n",
    "plt.ylabel(\"Epistatic Barrier\")\n",
    "plt.xlabel(\"Time constant\")\n",
    "println(sum(idx)/(21*76)) \n",
    "cor(scores[idx], log.(times[idx]))"
   ]
  },
  {
   "cell_type": "code",
   "execution_count": 14,
   "id": "80b5f6c7-6a56-44a0-9b8a-b2d12b9286c5",
   "metadata": {},
   "outputs": [
    {
     "ename": "LoadError",
     "evalue": "UndefVarError: `p1_0` not defined",
     "output_type": "error",
     "traceback": [
      "UndefVarError: `p1_0` not defined",
      "",
      "Stacktrace:",
      " [1] top-level scope",
      "   @ In[14]:1"
     ]
    }
   ],
   "source": [
    "num = f1 .- p1_0\n",
    "idx = (f1_0 .< 0.05) .& (f1 .> 0.05) .& (num .> 0.01)\n",
    "plt.scatter(times[idx], num[idx])\n",
    "corspearman(num[idx], times[idx])\n"
   ]
  }
 ],
 "metadata": {
  "kernelspec": {
   "display_name": "Julia 1.10.0",
   "language": "julia",
   "name": "julia-1.10"
  },
  "language_info": {
   "file_extension": ".jl",
   "mimetype": "application/julia",
   "name": "julia",
   "version": "1.10.0"
  }
 },
 "nbformat": 4,
 "nbformat_minor": 5
}
