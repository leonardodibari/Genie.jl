{
 "cells": [
  {
   "cell_type": "markdown",
   "id": "50cdcd14-d56f-4f7c-9353-7dc9521544f2",
   "metadata": {
    "jp-MarkdownHeadingCollapsed": true,
    "tags": []
   },
   "source": [
    "## PF14"
   ]
  },
  {
   "cell_type": "code",
   "execution_count": null,
   "id": "b4e8361a-b801-421b-baa9-ee7e0d73484c",
   "metadata": {},
   "outputs": [],
   "source": [
    "using Revise, Genie, TreeTools, DCAUtils, JLD2, PyPlot\n",
    "\n",
    "eq_start_seq = read_fasta_alignment(\"../data_Anc/iidSample1_SparsePF14_bmDCA_fasta.txt\", 0.9);\n",
    "nat_msa = read_fasta_alignment(\"../data_Anc/PF0014_hamming1_Alya.fasta\", 0.9);\n",
    "w = compute_weights(nat_msa, 22, 0.2)[1];\n",
    "  \n",
    "import KitMSA: fasta2matrix, letter2num, num2letter, extract_params, read_par_BM, set_max_field_to_0, symmetrize_J\n",
    "\n",
    "PATH_PAR = \"../data_Anc/Parameters_conv_PF14Sabrina.dat\"\n",
    "htmp, Jtmp = read_par_BM(PATH_PAR);\n",
    "#h = set_max_field_to_0(htmp);\n",
    "#J = symmetrize_J(Jtmp);\n",
    "#J_new = permutedims(J, [1,3,2,4]);\n",
    "extrema(J)\n",
    "sum(abs2,Jtmp)\n",
    "sum(abs2, htmp)\n",
    "\n",
    "h = htmp; J = permutedims(Jtmp, [1,3,2,4]);\n",
    "q = 21; L =53;\n",
    "start_seq = eq_start_seq[:,1];\n",
    "n_seq = 5000;\n",
    "\n",
    "tree_file = \"../data_Anc/PF00014_tree_no_doubles_full\"; \n",
    "mus = [i+0. for i in 1:10];\n",
    "#find_optimal_mu(tree_file, mus,Int.(eq_start_seq[:,400]), nat_msa, h, J; n_seq = 1000)\n",
    "\n",
    "@time tree = run_evolution_ontree(Int.(eq_start_seq[:,400]), tree_file, \n",
    "    h, J, mu = 6.5, p = 0.5); msa = msa_from_leafs(tree); f_nat = pair_dist_freq(nat_msa, \n",
    "    n_seq = 18000); f_sim = pair_dist_freq(msa, n_seq = 18000); check_pca(\"../\", \n",
    "    nat_msa, Int8.(msa)); check_pairwise(f_nat, f_sim, \"../pairwise_tree.png\"); check_energy(\"../\", nat_msa, \n",
    "    Int8.(msa), h, J, w);\n",
    "\n",
    "\n",
    "@time tree = run_evolution_ontree(Int.(eq_start_seq[:,400]), tree_file, \n",
    "    h, J, mu = 30.5, p = 0.5); msa = msa_from_leafs(tree); n_pair = 5000; f_nat = pair_dist_freq(nat_msa, \n",
    "    n_seq = n_pair); f_sim = pair_dist_freq(msa, n_seq = n_pair); check_pca(\"../\", \n",
    "    nat_msa, Int8.(msa)); check_pairwise(f_nat, f_sim, \"../pairwise_tree.png\"); check_energy(\"../\", nat_msa, \n",
    "    Int8.(msa), h, J, w)\n"
   ]
  },
  {
   "cell_type": "markdown",
   "id": "2ba03653-bd74-4def-abce-2d88bd24d01f",
   "metadata": {},
   "source": [
    "## DBD"
   ]
  },
  {
   "cell_type": "code",
   "execution_count": null,
   "id": "c6e7a92c-e540-4910-a837-57951e1330fe",
   "metadata": {},
   "outputs": [],
   "source": [
    "using Revise, Genie, TreeTools, DCAUtils, JLD2, PyPlot\n",
    "\n",
    "nat_msa  = read_fasta_alignment(\"../Gen.jl/data/alignments/natural/DBD_alignment.uniref90.cov80.a2m\", 0.9);\n",
    "w = compute_weights(nat_msa, 22, 0.2)[1];\n",
    "@load \"../data_Genie/pars_dbd.jld2\"; h = h_dbd; J = J_dbd;\n",
    "@load \"../eq_sample_DBD.jld2\";\n",
    "\n",
    "q = 21; L =76;\n",
    "tree_file = \"../data_Anc/DBD_tree\"; \n",
    "star_tree_file = \"../data_Anc/star_tree_DBD_hom.newick\"\n",
    "et_star_tree_file = \"../data_Anc/star_tree_DBD_eterog.newick\"\n",
    "tree = read_tree(tree_file, node_data_type = Seq);\n",
    "star_tree = read_tree(star_tree_file, node_data_type = Seq);\n",
    "et_star_tree = read_tree(et_star_tree_file, node_data_type = Seq);\n",
    "mus = [i+0. for i in 1:10];\n",
    "#find_optimal_mu(tree_file, mus,Int.(eq_msa_dbd[:,400]), nat_msa, h, J; n_seq = 1000)\n",
    "\n",
    "#star or real\n",
    "n_pair = 5000; @time res = run_evolution_ontree(Int.(eq_msa_dbd[:,400]), tree_file, \n",
    "    h, J, mu = 1000., p = 0.5); @time res_star = run_evolution_ontree(Int.(eq_msa_dbd[:,400]), star_tree_file, \n",
    "    h, J, mu = 1000., p = 0.5); msa = msa_from_leafs(res); msa_star = msa_from_leafs(res_star); f_nat = pair_dist_freq(nat_msa, \n",
    "    n_seq = n_pair); @time f_sim = pair_dist_freq(msa, n_seq = n_pair); @time f_sim_star = pair_dist_freq(msa_star, \n",
    "    n_seq = n_pair);  check_pairwise(f_nat, f_sim, \"../pairwise_tree.png\"); check_energy(\"../dbd_en.png\", nat_msa, \n",
    "    Int8.(msa), h, J, w);check_pairwise(f_nat, f_sim_star, \n",
    "    \"../pairwise_star_tree.png\"); check_energy(\"../dbd_star_en.png\", nat_msa, \n",
    "    Int8.(msa_star), h, J, w)\n",
    "\n",
    "n_pair = 5000; @time res = run_evolution_ontree(Int.(eq_msa_dbd[:,400]), tree_file, \n",
    "    h, J, mu = 10., p = 0.5); @time res_star = run_evolution_ontree(Int.(eq_msa_dbd[:,400]), star_tree_file, \n",
    "    h, J, mu = 10., p = 0.5); msa = msa_from_leafs(res); msa_star = msa_from_leafs(res_star); f_nat = pair_dist_freq(nat_msa, \n",
    "    n_seq = n_pair); @time f_sim = pair_dist_freq(msa, n_seq = n_pair); @time f_sim_star = pair_dist_freq(msa_star, \n",
    "    n_seq = n_pair);  check_pairwise(f_nat, f_sim, \"../pairwise_tree.png\"); check_energy(\"../dbd_en.png\", nat_msa, \n",
    "    Int8.(msa), h, J, w);check_pairwise(f_nat, f_sim_star, \n",
    "    \"../pairwise_star_tree.png\"); check_energy(\"../dbd_star_en.png\", nat_msa, \n",
    "    Int8.(msa_star), h, J, w)\n",
    "\n",
    "\n",
    "@time res = run_evolution_ontree(Int.(eq_msa_dbd[:,400]), tree_file, \n",
    "    h, J, mu = 1000., p = 0.5); msa = msa_from_leafs(tree); f_nat = pair_dist_freq(nat_msa, \n",
    "    n_seq = 5000); f_sim = pair_dist_freq(msa, n_seq = 5000); check_pca(\"../\", \n",
    "    nat_msa, Int8.(msa)); check_pairwise(f_nat, f_sim, \"../pairwise_tree.png\"); check_energy(\"../\", nat_msa, \n",
    "    Int8.(msa), h, J, w);\n",
    "\n",
    "\n"
   ]
  },
  {
   "cell_type": "code",
   "execution_count": null,
   "id": "b3be6c3d-fa8b-4dc9-a83c-6867a1678625",
   "metadata": {},
   "outputs": [],
   "source": [
    "# Define the number of sequences\n",
    "n_sequences = 24944\n",
    "\n",
    "dbd_tree_dist = [distance(tree.root, a) for a in leaves(tree)];\n",
    "\n",
    "# Create a list of sequences in Newick format\n",
    "sequences = [\"$i:$(dbd_tree_dist[i])\" for i in 1:n_sequences]\n",
    "\n",
    "# Join the sequences with commas to form the tree\n",
    "newick_format = \"(\" * join(sequences, \",\") * \")R;\"\n",
    "\n",
    "# Save to a file\n",
    "open(\"../data_Anc/star_tree_DBD_eterog.newick\", \"w\") do f\n",
    "    write(f, newick_format)\n",
    "end\n",
    "\n",
    "println(\"Tree with 200 sequences saved in Newick format.\")"
   ]
  }
 ],
 "metadata": {
  "kernelspec": {
   "display_name": "Julia 1.10.0",
   "language": "julia",
   "name": "julia-1.10"
  },
  "language_info": {
   "file_extension": ".jl",
   "mimetype": "application/julia",
   "name": "julia",
   "version": "1.10.0"
  }
 },
 "nbformat": 4,
 "nbformat_minor": 5
}
