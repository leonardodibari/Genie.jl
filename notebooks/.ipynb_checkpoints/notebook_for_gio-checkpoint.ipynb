{
 "cells": [
  {
   "cell_type": "code",
   "execution_count": 3,
   "id": "5d5a67cf-0873-4375-921d-c12179d5727f",
   "metadata": {
    "tags": []
   },
   "outputs": [],
   "source": [
    "using Revise, Genie, DelimitedFiles, DCAUtils, JLD2, PyPlot, Statistics, LinearAlgebra\n",
    "import KitMSA: fasta2matrix\n",
    "\n",
    "\n",
    "\n",
    "J_tmp, h_tmp, alf = Genie.read_graph_new(\"../model_natural_PSE.dat\"\n",
    "    );q, L = size(h_tmp); J_tmp_rs = reshape(J_tmp, q,L,q,L); h = Float64.(circshift(h_tmp, (-1, 0))); J = Float64.(circshift(J_tmp_rs, (-1, 0, -1, 0)));\n",
    "\n",
    "pse = read_fasta_alignment(\"../PSE-1_masked_noflankgaps.fa\", 0.9)[:]; \n",
    "\n",
    "dir_msa = read_fasta_alignment(\"../PSE_round_20_filtered199_423k.fasta\", 0.9); en_target = mean(\n",
    "    energy(dir_msa, h, J)); ham_target = mean(ham_dist(pse, dir_msa)); \n",
    "\n"
   ]
  },
  {
   "cell_type": "code",
   "execution_count": null,
   "id": "8f5f516a-8db2-43e8-b2bf-161657066db9",
   "metadata": {},
   "outputs": [],
   "source": [
    "start_msa = hcat([pse for i in 1:10000]...); \n",
    "temps = [1.26, 1.28, 1.30, 1.32, 1.34]; N_steps = 140; each_step = 5;\n",
    "scores = zeros(length(temps),round(Int \n",
    "        , N_steps/each_step));\n",
    "\n",
    "for t in 1:length(temps) \n",
    "\n",
    "    @time res = run_evolution(start_msa, \n",
    "    h, \n",
    "    J,\n",
    "    p = 0., \n",
    "    temp = temps[t], \n",
    "    N_steps = N_steps,  \n",
    "    each_step = each_step, \n",
    "    verbose = false);\n",
    "    for iter in 1:length(res.step_msa)\n",
    "        ham = mean(ham_dist(pse, res.step_msa[iter]))\n",
    "            en = mean(energy(res.step_msa[iter], h, J))\n",
    "        scores[t, iter] = ((ham - ham_target)/ham_target)^2 + ((en-en_target)/en_target)^2\n",
    "    end\n",
    "end\n",
    "        \n",
    "println(argmin(scores))"
   ]
  },
  {
   "cell_type": "code",
   "execution_count": null,
   "id": "4b1d9135-66f5-468f-9529-e9d2cdc2bb7d",
   "metadata": {},
   "outputs": [],
   "source": [
    "start_msa = hcat([pse for i in 1:10000]...); \n",
    "@time res = run_evolution(start_msa, \n",
    "    h, \n",
    "    J,\n",
    "    p = 0., \n",
    "    temp = 1.28, \n",
    "    N_steps = 125,  \n",
    "    verbose = false);\n",
    "ham = mean(ham_dist(pse, res.msa));\n",
    "en = mean(energy(res.msa, h, J));\n",
    "\n",
    "Genie.check_energy(\"../prova_energy_gio.png\", Int8.(dir_msa),Int8.(res.msa), h, J)\n",
    "Genie.check_dist_from_wt(Int8.(pse), Int8.(dir_msa),Int8.(res.msa), \"../prova_ham_gio.png\")\n",
    "    "
   ]
  },
  {
   "cell_type": "code",
   "execution_count": null,
   "id": "5b80e552-20b3-4f7b-a62f-369200d87459",
   "metadata": {},
   "outputs": [],
   "source": []
  }
 ],
 "metadata": {
  "kernelspec": {
   "display_name": "Julia 1.10.0",
   "language": "julia",
   "name": "julia-1.10"
  },
  "language_info": {
   "file_extension": ".jl",
   "mimetype": "application/julia",
   "name": "julia",
   "version": "1.10.0"
  }
 },
 "nbformat": 4,
 "nbformat_minor": 5
}
