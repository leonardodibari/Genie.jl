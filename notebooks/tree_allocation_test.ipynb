{
 "cells": [
  {
   "cell_type": "markdown",
   "id": "4e745f6c-9dde-45b3-971a-a1588af7103d",
   "metadata": {
    "jp-MarkdownHeadingCollapsed": true,
    "tags": []
   },
   "source": [
    "## PF14"
   ]
  },
  {
   "cell_type": "code",
   "execution_count": null,
   "id": "fcd4f273-fdd9-4174-b298-1507c0018573",
   "metadata": {},
   "outputs": [],
   "source": [
    "using Revise, Genie, TreeTools, DCAUtils, JLD2, PyPlot, BenchmarkTools\n",
    "\n",
    "eq_start_seq = read_fasta_alignment(\"../data_Anc/iidSample1_SparsePF14_bmDCA_fasta.txt\", 0.9);\n",
    "nat_msa = read_fasta_alignment(\"../data_Anc/PF0014_hamming1_Alya.fasta\", 0.9);\n",
    "  \n",
    "import KitMSA: fasta2matrix, letter2num, num2letter, extract_params, read_par_BM, set_max_field_to_0, symmetrize_J\n",
    "\n",
    "PATH_PAR = \"../data_Anc/Parameters_conv_PF14Sabrina.dat\"\n",
    "htmp, Jtmp = read_par_BM(PATH_PAR);\n",
    "#h = set_max_field_to_0(htmp);\n",
    "#J = symmetrize_J(Jtmp);\n",
    "#J_new = permutedims(J, [1,3,2,4]);\n",
    "extrema(J)\n",
    "sum(abs2,Jtmp)\n",
    "sum(abs2, htmp)\n",
    "\n",
    "h = htmp; J = permutedims(Jtmp, [1,3,2,4]);\n",
    "no_cod_bias = Dict(x => (1/length(amino2cod[cod2amino[x]])) for x in keys(cod2amino));\n",
    "        codon_usage = no_cod_bias;\n",
    "q = 21; L =53; codon_usage = Genie.no_cod_bias;\n",
    "\n",
    "N_trees = 1; tree_file = \"../data_Anc/PF00014_tree_no_doubles_full\"; \n",
    "rng = random_gens(N_trees+1); codon_net = Genie.create_nested_codon_dict();length_of_moves = Genie.create_length_dict(codon_net);\n",
    "    temp = 1.0;    all_codons = vcat([amino2cod[i] for i in 1:20]...);push!(all_codons, \"TAG\");push!(all_codons, \"TAA\");push!(all_codons, \"TGA\");\n",
    "\n",
    "chains = [Genie.Storage(Int.(eq_start_seq[:,400]), tree_file, rng[n]) for n in 1:N_trees+1];\n",
    "\n",
    "a = chains[1].tree.root; mu = 6.5; p = 0.5;\n",
    "\n",
    "@btime Genie.run_gibbs_sampling_tree!($(chains[1]), $(data(a).seq), $(data(a).DNA), $(h), $(J), \n",
    "                    $(codon_net), $(codon_usage), $(length_of_moves), $(temp), $(L))\n",
    "\n",
    "@btime Genie.run_metropolis_indels_tree!($(chains[1]), $(data(a).seq), $(data(a).DNA), $(h), $(J), \n",
    "                    $(all_codons), $(codon_usage), $(temp), $(L)) \n",
    "                    \n",
    "@btime Genie.assign_sequences!($(chains[1].tree.root), $(chains[1]), $(h), $(J), \n",
    "                    $(codon_net), $(all_codons), $(codon_usage), $(length_of_moves), $(temp), $(mu), $(p), $(L))\n",
    "\n",
    "seq_site = rand(1:53); nucleo_site = rand(1:3);\n",
    "@btime Genie.prob_cond_tree!($(chains[1]), $(data(a).seq), $(data(a).DNA), $(h), $(J), $(seq_site), $(nucleo_site), \n",
    "    $(codon_net), $(codon_usage), $(length_of_moves), $(temp), $(L))\n",
    "\n",
    "### invece di definire ogni singola variabile storage, prova a farne una e poi a fare le altre uguali\n"
   ]
  },
  {
   "cell_type": "markdown",
   "id": "b4b212a9-ca9e-4159-ab37-48ba34b1fc31",
   "metadata": {},
   "source": [
    "## DBD "
   ]
  },
  {
   "cell_type": "code",
   "execution_count": null,
   "id": "d341fa24-212a-485f-b865-5f1ea8b3988f",
   "metadata": {},
   "outputs": [],
   "source": [
    "using Revise, Genie, TreeTools, DCAUtils, JLD2, PyPlot, BenchmarkTools\n",
    "\n",
    "nat_msa  = read_fasta_alignment(\"../Gen.jl/data/alignments/natural/DBD_alignment.uniref90.cov80.a2m\", 0.9);\n",
    "w = compute_weights(nat_msa, 22, 0.2)[1];\n",
    "@load \"../data_Genie/pars_dbd.jld2\"; h = h_dbd; J = J_dbd;\n",
    "@load \"../data_Anc/eq_sample_DBD.jld2\";\n",
    "\n",
    "q = 21; L =76;\n",
    "\n",
    "no_cod_bias = Dict(x => (1/length(amino2cod[cod2amino[x]])) for x in keys(cod2amino));\n",
    "        codon_usage = no_cod_bias;\n",
    "q = 21; L =53; codon_usage = Genie.no_cod_bias;\n",
    "\n",
    "N_trees = 1; tree_file = \"../data_Anc/star_tree_DBD_hom.newick\"; \n",
    "rng = random_gens(N_trees+1); codon_net = Genie.create_nested_codon_dict();length_of_moves = Genie.create_length_dict(codon_net);\n",
    "    temp = 1.0;    all_codons = vcat([amino2cod[i] for i in 1:20]...);push!(all_codons, \"TAG\");push!(all_codons, \"TAA\");push!(all_codons, \"TGA\");\n",
    "\n",
    "@btime chains = [Genie.Storage(Int.(eq_msa_dbd[:,400]), tree_file, rng[n]) for n in 1:N_trees+1];\n",
    "\n",
    "a = chains[1].tree.root; mu = 6.5; p = 0.5;\n",
    "\n",
    "@btime Genie.run_gibbs_sampling_tree!($(chains[1]), $(data(a).seq), $(data(a).DNA), $(h), $(J), \n",
    "                    $(codon_net), $(codon_usage), $(length_of_moves), $(temp), $(L))\n",
    "\n",
    "@btime Genie.run_metropolis_indels_tree!($(chains[1]), $(data(a).seq), $(data(a).DNA), $(h), $(J), \n",
    "                    $(all_codons), $(codon_usage), $(temp), $(L)) \n",
    "                    \n",
    "@btime Genie.assign_sequences!($(chains[1].tree.root), $(chains[1]), $(h), $(J), \n",
    "                    $(codon_net), $(all_codons), $(codon_usage), $(length_of_moves), $(temp), $(mu), $(p), $(L))\n",
    "\n",
    "\n",
    "\n",
    "seq_site = rand(1:53); nucleo_site = rand(1:3);\n",
    "@btime Genie.prob_cond_tree!($(chains[1]), $(data(a).seq), $(data(a).DNA), $(h), $(J), $(seq_site), $(nucleo_site), \n",
    "    $(codon_net), $(codon_usage), $(length_of_moves), $(temp), $(L))\n",
    "\n",
    "### invece di definire ogni singola variabile storage, prova a farne una e poi a fare le altre uguali\n"
   ]
  }
 ],
 "metadata": {
  "kernelspec": {
   "display_name": "Julia 1.10.0",
   "language": "julia",
   "name": "julia-1.10"
  },
  "language_info": {
   "file_extension": ".jl",
   "mimetype": "application/julia",
   "name": "julia",
   "version": "1.10.0"
  }
 },
 "nbformat": 4,
 "nbformat_minor": 5
}
