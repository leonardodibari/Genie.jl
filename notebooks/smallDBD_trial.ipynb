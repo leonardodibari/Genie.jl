{
 "cells": [
  {
   "cell_type": "code",
   "execution_count": null,
   "id": "5d5a67cf-0873-4375-921d-c12179d5727f",
   "metadata": {},
   "outputs": [],
   "source": [
    "using Revise, Genie, DelimitedFiles, DCAUtils, JLD2, PyPlot, Statistics, LinearAlgebra\n",
    "\n",
    "\n",
    "nat_msa  = read_fasta_alignment(\"../data_Genie/DBD_80_seq_id_on_tree.fa\", 0.9);\n",
    "q = 21; L = size(nat_msa,1);\n",
    "\n",
    "J_tmp, h, alf = Genie.read_graph_new(\"../data_Genie/dense_silicoDCAshort_params.dat\"\n",
    "    );J = reshape(J_tmp, q,L,q,L); h = Float64.(circshift(h, (-1, 0))); J = Float64.(circshift(J, (-1, 0, -1, 0)));\n",
    "\n",
    "\n",
    "start_msa = hcat([nat_msa[:,1] for i in 1:5000]...); @time res = run_evolution(start_msa, \n",
    "    h, \n",
    "    J,\n",
    "    p = 0.5, \n",
    "    temp = 1., \n",
    "    N_steps = 1*10^5,  \n",
    "    N_points = 20, \n",
    "    verbose = true);\n",
    "\n",
    "@time check_equilibration(\"../figures/small_dbd_80_id/\", nat_msa, res.step_msa, res.steps)\n",
    "\n",
    "\n",
    "@time res = run_potts(start_msa, \n",
    "    h, \n",
    "    J,\n",
    "    temp = 1., \n",
    "    N_steps = 1*10^5,  \n",
    "    N_points = 20, \n",
    "    verbose = true);\n",
    "\n",
    "@time check_equilibration(\"../figures/small_dbd_80_id_metrop/\", nat_msa, res_metrop.step_msa, res_metrop.steps)\n",
    "\n",
    "Genie.conn_corr(res.step_msa[end], nat_msa, q, L)\n",
    "Genie.conn_corr(res_metrop.step_msa[end], nat_msa, q, L)\n",
    "\n"
   ]
  },
  {
   "cell_type": "code",
   "execution_count": null,
   "id": "8adb86bc-8313-49c0-af0d-c06cfce94ded",
   "metadata": {},
   "outputs": [],
   "source": [
    "function conn_corr(msa, nat_msa, q, L)\n",
    "\n",
    "    f1_nat_ql, f2_nat_ql = compute_weighted_frequencies(nat_msa, 22, 0.2); f1_nat = reshape(f1_nat_ql,q,L); f2_nat = reshape(f2_nat_ql,q,L,q,L);\n",
    "    f1_ql, f2_ql = compute_weighted_frequencies(msa, 22, 0.); f1 = reshape(f1_ql,q,L); f2 = reshape(f2_ql,q,L,q,L);   \n",
    "\n",
    "    c_ql = triu(f2_ql - f1_ql * f1_ql', 21); c_nat_ql = triu(f2_nat_ql - f1_nat_ql * f1_nat_ql', 21);\n",
    "\n",
    "    c_nat = []; c = []; \n",
    "    for i in 1:L\n",
    "        for j in 1:L\n",
    "            if i !== j\n",
    "                for a in 1:q\n",
    "                    for b in 1:q\n",
    "                        push!(c_nat, f2_nat[a,i,b,j] - f1_nat[a,i] * f1_nat[b,j])\n",
    "                        push!(c, f2[a,i,b,j] - f1[a,i] * f1[b,j])\n",
    "                    end\n",
    "                end\n",
    "            end\n",
    "        end\n",
    "    end\n",
    "\n",
    "\n",
    "    println(cor(c_nat[:], c[:]))\n",
    "    println(cor(c_nat_ql[:], c_ql[:]))\n",
    "    \n",
    "end\n"
   ]
  }
 ],
 "metadata": {
  "kernelspec": {
   "display_name": "Julia 1.10.0",
   "language": "julia",
   "name": "julia-1.10"
  },
  "language_info": {
   "file_extension": ".jl",
   "mimetype": "application/julia",
   "name": "julia",
   "version": "1.10.0"
  }
 },
 "nbformat": 4,
 "nbformat_minor": 5
}
