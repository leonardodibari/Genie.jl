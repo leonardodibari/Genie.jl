{
 "cells": [
  {
   "cell_type": "code",
   "execution_count": 1,
   "id": "2aaa54b7-39c7-4d7a-a317-b9fd662208e1",
   "metadata": {},
   "outputs": [],
   "source": [
    "using DCAUtils, JLD2, Statistics, Plots, LaTeXStrings"
   ]
  },
  {
   "cell_type": "code",
   "execution_count": 2,
   "id": "92758abe-1dda-4740-9776-1239c55d3e1d",
   "metadata": {},
   "outputs": [
    {
     "data": {
      "text/plain": [
       "consensus (generic function with 2 methods)"
      ]
     },
     "execution_count": 2,
     "metadata": {},
     "output_type": "execute_result"
    }
   ],
   "source": [
    "function consensus(Z::Array{Int8,2})\n",
    "    L = size(Z,1)\n",
    "    f1 = reshape(compute_weighted_frequencies(Z,22,0.)[1],(21,L))\n",
    "    return [argmax(f1[:,i]) for i in 1:L]\n",
    "end\n",
    "\n",
    "function consensus(Zs::Array{Array{Int8,2},1})\n",
    "    L = size(Zs[1],1)\n",
    "    N = length(Zs)\n",
    "    return hcat([consensus(Zs[i]) for i in 1:N]...)\n",
    "end"
   ]
  },
  {
   "cell_type": "code",
   "execution_count": 3,
   "id": "f6f28d68-5c69-48d8-aacd-492a7e951dc2",
   "metadata": {},
   "outputs": [],
   "source": [
    "@load \"../../data_Genie/3_seqs_sim.jld2\";\n",
    "@load \"../../data_Genie/cie_dbd.jld2\";\n",
    "@load \"../../data_Genie/3_seqs_sim_local_profile.jld2\";\n",
    "@load \"../../data_Genie/3_seqs_sim_profile.jld2\";"
   ]
  },
  {
   "cell_type": "code",
   "execution_count": 4,
   "id": "bdafacdf-30d5-4816-bdc5-791fdc7fdad2",
   "metadata": {
    "collapsed": true,
    "jupyter": {
     "outputs_hidden": true
    },
    "tags": []
   },
   "outputs": [
    {
     "name": "stdout",
     "output_type": "stream",
     "text": [
      "θ = 0.0 threshold = 0.0\n",
      "M = 200 N = 76 Meff = 200\n",
      "θ = 0.0 threshold = 0.0\n",
      "M = 200 N = 76 Meff = 200\n",
      "θ = 0.0 threshold = 0.0\n",
      "M = 200 N = 76 Meff = 200\n",
      "θ = 0.0 threshold = 0.0\n",
      "M = 200 N = 76 Meff = 200\n",
      "θ = 0.0 threshold = 0.0\n",
      "M = 200 N = 76 Meff = 200\n",
      "θ = 0.0 threshold = 0.0\n",
      "M = 200 N = 76 Meff = 200\n",
      "θ = 0.0 threshold = 0.0\n",
      "M = 200 N = 76 Meff = 200\n",
      "θ = 0.0 threshold = 0.0\n",
      "M = 200 N = 76 Meff = 200\n",
      "θ = 0.0 threshold = 0.0\n",
      "M = 200 N = 76 Meff = 200\n",
      "θ = 0.0 threshold = 0.0\n",
      "M = 200 N = 76 Meff = 200\n",
      "θ = 0.0 threshold = 0.0\n",
      "M = 200 N = 76 Meff = 200\n",
      "θ = 0.0 threshold = 0.0\n",
      "M = 200 N = 76 Meff = 200\n",
      "θ = 0.0 threshold = 0.0\n",
      "M = 200 N = 76 Meff = 200\n",
      "θ = 0.0 threshold = 0.0\n",
      "M = 200 N = 76 Meff = 200\n",
      "θ = 0.0 threshold = 0.0\n",
      "M = 200 N = 76 Meff = 200\n",
      "θ = 0.0 threshold = 0.0\n",
      "M = 200 N = 76 Meff = 200\n",
      "θ = 0.0 threshold = 0.0\n",
      "M = 200 N = 76 Meff = 200\n",
      "θ = 0.0 threshold = 0.0\n",
      "M = 200 N = 76 Meff = 200\n",
      "θ = 0.0 threshold = 0.0\n",
      "M = 200 N = 76 Meff = 200\n",
      "θ = 0.0 threshold = 0.0\n",
      "M = 200 N = 76 Meff = 200\n",
      "θ = 0.0 threshold = 0.0\n",
      "M = 200 N = 76 Meff = 200\n",
      "θ = 0.0 threshold = 0.0\n",
      "M = 200 N = 76 Meff = 200\n",
      "θ = 0.0 threshold = 0.0\n",
      "M = 200 N = 76 Meff = 200\n",
      "θ = 0.0 threshold = 0.0\n",
      "M = 200 N = 76 Meff = 200\n",
      "θ = 0.0 threshold = 0.0\n",
      "M = 200 N = 76 Meff = 200\n",
      "θ = 0.0 threshold = 0.0\n",
      "M = 200 N = 76 Meff = 200\n",
      "θ = 0.0 threshold = 0.0\n",
      "M = 200 N = 76 Meff = 200\n",
      "θ = 0.0 threshold = 0.0\n",
      "M = 200 N = 76 Meff = 200\n",
      "θ = 0.0 threshold = 0.0\n",
      "M = 200 N = 76 Meff = 200\n",
      "θ = 0.0 threshold = 0.0\n",
      "M = 200 N = 76 Meff = 200\n",
      "θ = 0.0 threshold = 0.0\n",
      "M = 200 N = 76 Meff = 200\n",
      "θ = 0.0 threshold = 0.0\n",
      "M = 200 N = 76 Meff = 200\n",
      "θ = 0.0 threshold = 0.0\n",
      "M = 200 N = 76 Meff = 200\n",
      "θ = 0.0 threshold = 0.0\n",
      "M = 200 N = 76 Meff = 200\n",
      "θ = 0.0 threshold = 0.0\n",
      "M = 200 N = 76 Meff = 200\n"
     ]
    }
   ],
   "source": [
    "points = [50*i for i in 1:7]; L = 76;\n",
    "s1 = [read_fasta_alignment(\"../../data_Genie/seq1_alignments/seq1_$(points[i]).fa\",0.9) \n",
    "    for i in 1:7];\n",
    "s2 = [read_fasta_alignment(\"../../data_Genie/seq2_alignments/seq2_$(points[i]).fa\",0.9) \n",
    "    for i in 1:7];\n",
    "s3 = [read_fasta_alignment(\"../../data_Genie/seq3_alignments/seq3_$(points[i]).fa\",0.9) \n",
    "    for i in 1:7];\n",
    "s2_p = [read_fasta_alignment(\"../../data_Genie/prof_seq2_alignments/seq2_$(points[i]).fa\",0.9) \n",
    "    for i in 1:7]\n",
    "s2_lp = [read_fasta_alignment(\"../../data_Genie/local_prof_seq2_alignments/seq2_$(points[i]).fa\",0.9) \n",
    "    for i in 1:7]\n",
    "c1 = consensus(s1);\n",
    "c2 = consensus(s2);\n",
    "c3 = consensus(s3);\n",
    "c2_p = consensus(s2_p);\n",
    "c2_lp = consensus(s2_lp);"
   ]
  },
  {
   "cell_type": "code",
   "execution_count": 5,
   "id": "971a0a43-125f-4b6f-b14d-de5df716f16d",
   "metadata": {},
   "outputs": [],
   "source": [
    "d1 = mean(c1 .!= start_msa[:,1], dims = 1)[1,:];\n",
    "d2 = mean(c2 .!= start_msa[:,2], dims = 1)[1,:];\n",
    "d3 = mean(c3 .!= start_msa[:,3], dims = 1)[1,:];\n",
    "d2_p = mean(c2_p .!= start_msa[:,2], dims = 1)[1,:];\n",
    "d2_lp = mean(c2_lp .!= start_msa[:,2], dims = 1)[1,:];"
   ]
  },
  {
   "cell_type": "code",
   "execution_count": 6,
   "id": "4ba5b283-8640-46f5-9ce9-34754071a608",
   "metadata": {},
   "outputs": [],
   "source": [
    "real_sweeps = res_all[1].steps[points] ./ 76;\n",
    "sweeps = res_all[1].steps ./ 76;\n",
    "score1 = mean(entr1' ./ cie, dims = 1)[1,:]; \n",
    "score2 = mean(entr2' ./ cie, dims = 1)[1,:]; \n",
    "score3 = mean(entr3' ./ cie, dims = 1)[1,:]; \n",
    "score2_p = mean(entr2_p' ./ cie, dims = 1)[1,:]; \n",
    "score2_lp = mean(entr2_lp' ./ cie, dims = 1)[1,:]; "
   ]
  },
  {
   "cell_type": "code",
   "execution_count": 7,
   "id": "0632a7e4-1530-4ce7-9604-bad99cc4ebfa",
   "metadata": {},
   "outputs": [
    {
     "data": {
      "text/plain": [
       "\"/home/disat/ldibari/figures/suppl_saverio/3_seqs_entropy_vs_consensus.pdf\""
      ]
     },
     "execution_count": 7,
     "metadata": {},
     "output_type": "execute_result"
    }
   ],
   "source": [
    "transp = 0.6\n",
    "\n",
    "plot(sweeps, score1, color = :blue, alpha = transp, xaxis = :log, linewidth = 6,\n",
    "    xticks = 10.0 .^collect(-2:6), xtickfontsize=10,ytickfontsize=10,labelfontsize=18,\n",
    "ylims=(-0.05,1.2))\n",
    "plot!(xlabel=L\"\\textrm{MC\\ Sweeps}\")  \n",
    "plot!(ylabel=L\" \\textrm{1/L} \\sum_i \\textrm{S}_i (t) / \\textrm{CIE}_i \")   \n",
    "\n",
    "plot!(sweeps, score2, color = :red, alpha = transp, xaxis = :log, linewidth = 6,\n",
    "    xticks = 10.0 .^collect(-2:6), xtickfontsize=10,ytickfontsize=10,labelfontsize=18,\n",
    "ylims=(-0.05,1.2))\n",
    "\n",
    "plot!(sweeps, score3, color = :green, alpha = transp, xaxis = :log, linewidth = 6,\n",
    "    xticks = 10.0 .^collect(-2:6), xtickfontsize=10,ytickfontsize=10,labelfontsize=18,\n",
    "ylims=(-0.05,1.2))\n",
    "\n",
    "scatter!(twinx(),real_sweeps, d1, \n",
    "    color = :blue, xaxis = :log, \n",
    "xticks = 10.0 .^collect(-2:6), ylabel=L\"\\textrm{Site \\ errors \\ in \\ consensus \\ (\\%)}\", marker = :star,\n",
    "    xtickfontsize=10,ytickfontsize=10,labelfontsize=18, markersize = 10,\n",
    "    ylims=(-0.05,0.7))  \n",
    "\n",
    "scatter!(twinx(),real_sweeps, d2, \n",
    "    color = :red, xaxis = :log, marker = :star, markersize = 10,\n",
    "    xtickfontsize=10,ytickfontsize=10,labelfontsize=18,\n",
    "    ylims=(-0.05,0.7))  \n",
    "\n",
    "scatter!(twinx(),real_sweeps, d3, \n",
    "    color = :green, xaxis = :log,marker = :star,markersize = 10,\n",
    "    xtickfontsize=10,ytickfontsize=10,labelfontsize=18,\n",
    "    ylims=(-0.05,0.7))  \n",
    "\n",
    "plot!(bottom_margin = 6Plots.mm)\n",
    "plot!(right_margin = 5Plots.mm)\n",
    "plot!(left_margin = 3Plots.mm)\n",
    "plot!(legend=:none)\n",
    "plot!(size=(600,400))\n",
    "savefig(\"../../figures/suppl_saverio/3_seqs_entropy_vs_consensus.pdf\")"
   ]
  },
  {
   "cell_type": "code",
   "execution_count": 8,
   "id": "ddcb1bbc-a472-48de-b21f-14a5b1673efc",
   "metadata": {},
   "outputs": [
    {
     "data": {
      "text/plain": [
       "\"/home/disat/ldibari/figures/suppl_saverio/3_seqs_hamming_vs_consensus.pdf\""
      ]
     },
     "execution_count": 8,
     "metadata": {},
     "output_type": "execute_result"
    }
   ],
   "source": [
    "transp = 0.6\n",
    "\n",
    "plot(sweeps, dd1 ./ L, color = :blue, alpha = transp, xaxis = :log, linewidth = 6,\n",
    "    xticks = 10.0 .^collect(-2:6), xtickfontsize=10,ytickfontsize=10,labelfontsize=18,\n",
    "ylims=(-0.05,0.7))\n",
    "plot!(xlabel=L\"\\textrm{MC\\ Sweeps}\")  \n",
    "plot!(ylabel=L\"\\textrm{Hamming \\ distance}\")   \n",
    "\n",
    "plot!(sweeps, dd2 ./ L, color = :red, alpha = transp, xaxis = :log, linewidth = 6,\n",
    "    xticks = 10.0 .^collect(-2:6), xtickfontsize=10,ytickfontsize=10,labelfontsize=18,\n",
    "ylims=(-0.05,0.7))\n",
    "\n",
    "plot!(sweeps, dd3 ./ L, color = :green, alpha = transp, xaxis = :log, linewidth = 6,\n",
    "    xticks = 10.0 .^collect(-2:6), xtickfontsize=10,ytickfontsize=10,labelfontsize=18,\n",
    "ylims=(-0.05,0.7))\n",
    "\n",
    "scatter!(twinx(),sweeps[points], d1, \n",
    "    color = :blue, xaxis = :log, \n",
    "xticks = 10.0 .^collect(-2:6), ylabel=L\"\\textrm{Site \\ errors \\ in \\ consensus \\ (\\%)}\", marker = :star,\n",
    "    xtickfontsize=10,ytickfontsize=10,labelfontsize=18, markersize = 10,\n",
    "    ylims=(-0.05,0.7))  \n",
    "\n",
    "scatter!(twinx(),sweeps[points], d2, \n",
    "    color = :red, xaxis = :log, marker = :star, markersize = 10,\n",
    "    xtickfontsize=10,ytickfontsize=10,labelfontsize=18,\n",
    "    ylims=(-0.05,0.7))  \n",
    "\n",
    "scatter!(twinx(),sweeps[points], d3, \n",
    "    color = :green, xaxis = :log,marker = :star,markersize = 10,\n",
    "    xtickfontsize=10,ytickfontsize=10,labelfontsize=18,\n",
    "    ylims=(-0.05,0.7))  \n",
    "\n",
    "plot!(bottom_margin = 6Plots.mm)\n",
    "plot!(right_margin = 5Plots.mm)\n",
    "plot!(left_margin = 3Plots.mm)\n",
    "plot!(legend=:none)\n",
    "plot!(size=(600,400))\n",
    "savefig(\"../../figures/suppl_saverio/3_seqs_hamming_vs_consensus.pdf\")"
   ]
  },
  {
   "cell_type": "code",
   "execution_count": 58,
   "id": "c66580fe-06ef-4365-aba2-4a7c6d74a5c5",
   "metadata": {},
   "outputs": [
    {
     "data": {
      "text/plain": [
       "\"/home/disat/ldibari/figures/suppl_saverio/prof_potts_entropy_vs_consensus.pdf\""
      ]
     },
     "execution_count": 58,
     "metadata": {},
     "output_type": "execute_result"
    }
   ],
   "source": [
    "transp = 0.6\n",
    "\n",
    "plot(sweeps, score2_p , color = :red, alpha = transp, xaxis = :log, linewidth = 6,label = L\"\\textrm{Profile}\",\n",
    "    xticks = 10.0 .^collect(-2:6), xtickfontsize=10,ytickfontsize=10,labelfontsize=18,\n",
    "ylims=(-0.05,1.2))\n",
    "plot!(xlabel=L\"\\textrm{MC\\ Sweeps}\")\n",
    "plot!(ylabel=L\" \\textrm{1/L} \\sum_i \\textrm{S}_i (t) / \\textrm{CIE}_i \")   \n",
    "\n",
    "\n",
    "plot!(sweeps, score2 , color = :darkred, alpha = 1.0, xaxis = :log, linewidth = 6, label = L\"\\textrm{Potts}\",\n",
    "    linestyle = :dash, xticks = 10.0 .^collect(-2:6), xtickfontsize=10,ytickfontsize=10,labelfontsize=18,\n",
    "ylims=(-0.05,1.2))\n",
    "\n",
    "plot!(sweeps, score2_lp , color = :orange, alpha = 1.0, xaxis = :log, linewidth = 6, label = L\"\\textrm{Local \\ Profile}\",\n",
    "    linestyle = :dot, xticks = 10.0 .^collect(-2:6), xtickfontsize=10,ytickfontsize=10,labelfontsize=18,\n",
    "ylims=(-0.05,1.2))\n",
    "\n",
    "scatter!(twinx(),sweeps[points], d2_p, \n",
    "    color = :red, xaxis = :log, label = \"\",\n",
    "xticks = 10.0 .^collect(-2:6), ylabel=L\"\\textrm{Site \\ errors \\ in \\ consensus \\ (\\%)}\", marker = :star,\n",
    "    xtickfontsize=10,ytickfontsize=10,labelfontsize=18, markersize = 10,\n",
    "    ylims=(-0.05,0.7))  \n",
    "\n",
    "scatter!(twinx(),sweeps[points], d2, \n",
    "    color = :darkred, xaxis = :log, marker = :star, markersize = 10,\n",
    "    xtickfontsize=10,ytickfontsize=10,labelfontsize=18,label = \"\",\n",
    "    ylims=(-0.05,0.7))  \n",
    "\n",
    "scatter!(twinx(),sweeps[points], d2_lp, \n",
    "    color = :orange, xaxis = :log, marker = :star, markersize = 10,\n",
    "    xtickfontsize=10,ytickfontsize=10,labelfontsize=18,label = \"\",\n",
    "    ylims=(-0.05,0.7))  \n",
    "\n",
    "plot!(bottom_margin = 6Plots.mm)\n",
    "plot!(right_margin = 5Plots.mm)\n",
    "plot!(left_margin = 3Plots.mm)\n",
    "plot!(legend=:topleft)\n",
    "plot!(size=(600,400))\n",
    "savefig(\"../../figures/suppl_saverio/prof_potts_entropy_vs_consensus.pdf\")"
   ]
  },
  {
   "cell_type": "code",
   "execution_count": 59,
   "id": "8937a523-4ea8-4e20-8ab9-3d460d721e70",
   "metadata": {},
   "outputs": [
    {
     "data": {
      "text/plain": [
       "\"/home/disat/ldibari/figures/suppl_saverio/prof_potts_hamming_vs_consensus.pdf\""
      ]
     },
     "execution_count": 59,
     "metadata": {},
     "output_type": "execute_result"
    }
   ],
   "source": [
    "transp = 0.6\n",
    "\n",
    "plot(sweeps, dd2_p ./L, color = :red, alpha = transp, xaxis = :log, linewidth = 6, label = L\"\\textrm{Profile}\",\n",
    "    xticks = 10.0 .^collect(-2:6), xtickfontsize=10,ytickfontsize=10,labelfontsize=18,\n",
    "ylims=(-0.05,0.8))\n",
    "plot!(xlabel=L\"\\textrm{MC\\ Sweeps}\")  \n",
    "plot!(ylabel=L\"\\textrm{Hamming \\ distance}\")   \n",
    "\n",
    "\n",
    "plot!(sweeps, dd2 ./L , color = :darkred, alpha = 1.0, xaxis = :log, linewidth = 6, label = L\"\\textrm{Potts}\",\n",
    "    linestyle = :dash, xticks = 10.0 .^collect(-2:6), xtickfontsize=10,ytickfontsize=10,labelfontsize=18,\n",
    "ylims=(-0.05,0.8))\n",
    "\n",
    "plot!(sweeps, dd2_lp ./L , color = :orange, alpha = 1.0, xaxis = :log, linewidth = 6, label = L\"\\textrm{Local \\ Profile}\",\n",
    "    linestyle = :dot, xticks = 10.0 .^collect(-2:6), xtickfontsize=10,ytickfontsize=10,labelfontsize=18,\n",
    "ylims=(-0.05,0.8))\n",
    "\n",
    "\n",
    "scatter!(twinx(),sweeps[points], d2_p, \n",
    "    color = :red, xaxis = :log, label = \"\",\n",
    "xticks = 10.0 .^collect(-2:6), ylabel=L\"\\textrm{Site \\ errors \\ in \\ consensus \\ (\\%)}\", marker = :star,\n",
    "    xtickfontsize=10,ytickfontsize=10,labelfontsize=18, markersize = 10,\n",
    "    ylims=(-0.05,0.7))  \n",
    "\n",
    "scatter!(twinx(),sweeps[points], d2, \n",
    "    color = :darkred, xaxis = :log, marker = :star, markersize = 10,label = \"\",\n",
    "    xtickfontsize=10,ytickfontsize=10,labelfontsize=18,\n",
    "    ylims=(-0.05,0.7))  \n",
    "\n",
    "scatter!(twinx(),sweeps[points], d2_lp, \n",
    "    color = :orange, xaxis = :log, marker = :star, markersize = 10,\n",
    "    xtickfontsize=10,ytickfontsize=10,labelfontsize=18,label = \"\",\n",
    "    ylims=(-0.05,0.7))  \n",
    "\n",
    "plot!(bottom_margin = 6Plots.mm)\n",
    "plot!(right_margin = 5Plots.mm)\n",
    "plot!(left_margin = 3Plots.mm)\n",
    "plot!(legend=:topleft)\n",
    "plot!(size=(600,400))\n",
    "\n",
    "savefig(\"../../figures/suppl_saverio/prof_potts_hamming_vs_consensus.pdf\")\n"
   ]
  },
  {
   "cell_type": "code",
   "execution_count": null,
   "id": "437b87ee-13f6-4941-9897-4214c3b02f64",
   "metadata": {},
   "outputs": [],
   "source": []
  }
 ],
 "metadata": {
  "kernelspec": {
   "display_name": "Julia 1.10.0",
   "language": "julia",
   "name": "julia-1.10"
  },
  "language_info": {
   "file_extension": ".jl",
   "mimetype": "application/julia",
   "name": "julia",
   "version": "1.10.0"
  }
 },
 "nbformat": 4,
 "nbformat_minor": 5
}
