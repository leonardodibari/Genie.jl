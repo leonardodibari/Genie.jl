{
 "cells": [
  {
   "cell_type": "code",
   "execution_count": 32,
   "id": "5b200efc-fd1e-4b92-a4a4-eba64ee6dd5f",
   "metadata": {},
   "outputs": [],
   "source": [
    "using JLD2, Plots, LaTeXStrings, Statistics"
   ]
  },
  {
   "cell_type": "code",
   "execution_count": 6,
   "id": "92714cc4-1c80-4c17-9f8a-1debe9380058",
   "metadata": {},
   "outputs": [
    {
     "data": {
      "text/plain": [
       "4-element Vector{Symbol}:\n",
       " :cdes\n",
       " :y\n",
       " :res\n",
       " :idxs"
      ]
     },
     "execution_count": 6,
     "metadata": {},
     "output_type": "execute_result"
    }
   ],
   "source": [
    "@load \"../../data_Genie/delta_CDE_over_T.jld2\""
   ]
  },
  {
   "cell_type": "code",
   "execution_count": 30,
   "id": "6aeb8a0d-826a-444c-a6b7-e7c5704631b6",
   "metadata": {},
   "outputs": [
    {
     "data": {
      "text/plain": [
       "\"/home/disat/ldibari/figures/suppl_saverio/delta_CDE_overT.pdf\""
      ]
     },
     "execution_count": 30,
     "metadata": {},
     "output_type": "execute_result"
    }
   ],
   "source": [
    "transp = 0.1\n",
    "\n",
    "scatter(cdes, y, color = :grey, alpha = transp, xaxis = :log, \n",
    "    xtickfontsize=10,ytickfontsize=10,labelfontsize=18)\n",
    "scatter!(cdes[idxs], y[idxs], color = [:blue, :red, :green], xaxis = :log,\n",
    "    xtickfontsize=10,ytickfontsize=10,labelfontsize=18, marker = :star, markersize =15)\n",
    "plot!(ylabel=L\"\\frac{1}{\\textrm{T}} \\frac{\\partial \\textrm{ CDE^A}}{\\partial \\textrm{T}}\")  \n",
    "plot!(xlabel=L\"\\textrm{CDE^A}\")   \n",
    "\n",
    "\n",
    "\n",
    "plot!(bottom_margin = 6Plots.mm)\n",
    "plot!(right_margin = 5Plots.mm)\n",
    "plot!(left_margin = 3Plots.mm)\n",
    "plot!(legend=:none)\n",
    "plot!(size=(600,400))\n",
    "\n",
    "savefig(\"../../figures/suppl_saverio/delta_CDE_overT.pdf\")"
   ]
  },
  {
   "cell_type": "code",
   "execution_count": null,
   "id": "4437d6c3-2c82-456b-9d4b-60bdd6c048ca",
   "metadata": {},
   "outputs": [],
   "source": [
    "using Revise, Genie, StatsBase, Statistics, JLD2, DCAUtils\n",
    "\n",
    "\n",
    "\n",
    "\n",
    "dbd_msa  = read_fasta_alignment(\"../Gen.jl/data/alignments/natural/DBD_alignment.uniref90.cov80.a2m\", 0.9);\n",
    "@load \"../data_Genie/pars_dbd.jld2\"\n",
    "\n",
    "\n",
    "N_steps = 1*10^3; N_chains = 500; N_start_seq = 3000; NN_points = 200; steps = unique([\n",
    "        trunc(Int,10^y) for y in range(log10(1), log10(N_steps), \n",
    "                length=NN_points)]); N_points = length(steps); w = compute_weights(dbd_msa,\n",
    "    22, 0.2)[1]; idx_seqs = sample(collect(1:size(dbd_msa,2)), ProbabilityWeights(w), \n",
    "    N_start_seq); start_seq = [dbd_msa[:,i] for i in 1:N_start_seq]; w_seqs = w[idx_seqs]; res_all = [];\n",
    "\n",
    "\n",
    "\n",
    "@time for n in 1:N_start_seq\n",
    "    res = run_potts(Int8.(hcat([start_seq[n] for i in 1:N_chains]...)), \n",
    "        h_dbd, \n",
    "        J_dbd, \n",
    "        temp = 1.0, \n",
    "        N_points = NN_points, \n",
    "        N_steps = N_steps);\n",
    "    if n%10 == 0\n",
    "        println(\"Initial seq $(n)\")\n",
    "    end\n",
    "    push!(res_all, res) \n",
    "end\n",
    "\n",
    "v_ens = [var(energy(res_all[i].step_msa[end], h_dbd, J_dbd)) for i in 1:N_start_seq];\n",
    "\n",
    "\n",
    "@load \"../data_Genie/delta_CDE_over_T.jld2\" \n",
    "\n",
    "\n",
    "cor(y[1:N_start_seq], v_ens)\n",
    "\n",
    "close(\"all\"); plt.scatter(y[1:N_start_seq], v_ens); savefig(\"../prova.png\")"
   ]
  },
  {
   "cell_type": "code",
   "execution_count": 48,
   "id": "905c1399-1047-4339-a32a-c1a86633018e",
   "metadata": {},
   "outputs": [
    {
     "data": {
      "text/plain": [
       "3-element Vector{Symbol}:\n",
       " :pc_nat\n",
       " :pc_sils\n",
       " :sweeps"
      ]
     },
     "execution_count": 48,
     "metadata": {},
     "output_type": "execute_result"
    }
   ],
   "source": [
    "@load \"../../data_Genie/pca_seq2_dbd.jld2\" ;"
   ]
  },
  {
   "cell_type": "code",
   "execution_count": 49,
   "id": "c6612832-85ae-4c20-bac3-18355757da2b",
   "metadata": {},
   "outputs": [
    {
     "data": {
      "text/plain": [
       "\"/home/disat/ldibari/prova.png\""
      ]
     },
     "execution_count": 49,
     "metadata": {},
     "output_type": "execute_result"
    }
   ],
   "source": [
    "scatter(pc_nat[:,1], pc_nat[:,2], alpha = 0.1, label = \"nat\")\n",
    "scatter!(pc_sils[5][:,1], pc_sils[5][:,2], color = :black, label = \"$(sweeps[5])\")\n",
    "scatter!(pc_sils[4][:,1], pc_sils[4][:,2], color = :pink, label = \"$(sweeps[4])\")\n",
    "scatter!(pc_sils[3][:,1], pc_sils[3][:,2], color = :green, label = \"$(sweeps[3])\")\n",
    "scatter!(pc_sils[2][:,1], pc_sils[2][:,2], color = :red, label = \"$(sweeps[2])\")\n",
    "scatter!(pc_sils[1][:,1], pc_sils[1][:,2], color = :yellow, label = \"$(sweeps[1])\")\n",
    "savefig(\"../../prova2.png\")"
   ]
  },
  {
   "cell_type": "code",
   "execution_count": 50,
   "id": "ffeb8b17-9cc5-4f55-9804-4d0af73403c7",
   "metadata": {},
   "outputs": [
    {
     "data": {
      "text/plain": [
       "3-element Vector{Symbol}:\n",
       " :pc_nat\n",
       " :pc_sils\n",
       " :sweeps"
      ]
     },
     "execution_count": 50,
     "metadata": {},
     "output_type": "execute_result"
    }
   ],
   "source": [
    "@load \"../../data_Genie/pca_seq1_dbd.jld2\" ;"
   ]
  },
  {
   "cell_type": "code",
   "execution_count": 51,
   "id": "5d472b9a-bd5a-4b17-8852-6d7f9df3180f",
   "metadata": {},
   "outputs": [
    {
     "data": {
      "text/plain": [
       "\"/home/disat/ldibari/prova1.png\""
      ]
     },
     "execution_count": 51,
     "metadata": {},
     "output_type": "execute_result"
    }
   ],
   "source": [
    "scatter(pc_nat[:,1], pc_nat[:,2], alpha = 0.1, label = \"nat\")\n",
    "scatter!(pc_sils[5][:,1], pc_sils[5][:,2], color = :black, label = \"$(sweeps[5])\")\n",
    "scatter!(pc_sils[4][:,1], pc_sils[4][:,2], color = :pink, label = \"$(sweeps[4])\")\n",
    "scatter!(pc_sils[3][:,1], pc_sils[3][:,2], color = :green, label = \"$(sweeps[3])\")\n",
    "scatter!(pc_sils[2][:,1], pc_sils[2][:,2], color = :red, label = \"$(sweeps[2])\")\n",
    "scatter!(pc_sils[1][:,1], pc_sils[1][:,2], color = :yellow, label = \"$(sweeps[1])\")\n",
    "savefig(\"../../prova1.png\")"
   ]
  },
  {
   "cell_type": "code",
   "execution_count": null,
   "id": "358e4f18-4ee5-487c-871e-ca57d7a07c72",
   "metadata": {},
   "outputs": [],
   "source": []
  }
 ],
 "metadata": {
  "kernelspec": {
   "display_name": "Julia 1.10.0",
   "language": "julia",
   "name": "julia-1.10"
  },
  "language_info": {
   "file_extension": ".jl",
   "mimetype": "application/julia",
   "name": "julia",
   "version": "1.10.0"
  }
 },
 "nbformat": 4,
 "nbformat_minor": 5
}
